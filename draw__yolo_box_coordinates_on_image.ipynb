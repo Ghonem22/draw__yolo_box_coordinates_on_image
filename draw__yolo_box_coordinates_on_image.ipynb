{
  "nbformat": 4,
  "nbformat_minor": 0,
  "metadata": {
    "colab": {
      "name": "draw__yolo_box_coordinates_on_image.ipynb",
      "provenance": [],
      "authorship_tag": "ABX9TyMDmSWbypVxmXwqUg9yWX/R",
      "include_colab_link": true
    },
    "kernelspec": {
      "name": "python3",
      "display_name": "Python 3"
    },
    "language_info": {
      "name": "python"
    }
  },
  "cells": [
    {
      "cell_type": "markdown",
      "metadata": {
        "id": "view-in-github",
        "colab_type": "text"
      },
      "source": [
        "<a href=\"https://colab.research.google.com/github/Ghonem22/draw__yolo_box_coordinates_on_image/blob/main/draw__yolo_box_coordinates_on_image.ipynb\" target=\"_parent\"><img src=\"https://colab.research.google.com/assets/colab-badge.svg\" alt=\"Open In Colab\"/></a>"
      ]
    },
    {
      "cell_type": "code",
      "metadata": {
        "id": "zsKcamSAfATz"
      },
      "source": [
        "'''\n",
        " This function takes Yolo cooardinates (center_x, center_y,width,height) and convert it to draw the rectangle on the image.\n",
        "\n",
        " you can select bounding box on an image using \"labelImg\" and then get the output values to draw on the image\n",
        "\n",
        " You can Downliad labelImg from here:\n",
        " https://sourceforge.net/projects/labelimg.mirror/\n",
        "'''\n",
        "# importing cv2 \n",
        "import cv2 \n",
        "from PIL import Image, ImageDraw, ExifTags, ImageColor, ImageFont\n",
        "\n",
        "\n",
        "def draw__yolo_box_coordinates_on_image(image_path, font_path, center_x, center_y, width, height, text_above_box, saving_path  ):\n",
        "\n",
        "    # Reading an image in default mode\n",
        "    image=Image.open(image_path)\n",
        "    \n",
        "    # Window name in which image is displayed\n",
        "    window_name = 'Image'\n",
        "\n",
        "    imgWidth, imgHeight = image.size\n",
        "    box = {}\n",
        "\n",
        "    box['Left'] = center_x - (width  / 2)\n",
        "    box['Top'] =center_y - (height / 2)\n",
        "    box['Width'] =width \n",
        "    box['Height'] = height\n",
        "\n",
        "\n",
        "    draw = ImageDraw.Draw(image)\n",
        "\n",
        "    left = int(imgWidth * box['Left'])\n",
        "    top = int(imgHeight * box['Top'])\n",
        "    width = int(imgWidth * box['Width'])\n",
        "    height = int(imgHeight * box['Height'])\n",
        "\n",
        "\n",
        "    points = (\n",
        "        (left, top),\n",
        "        (left + width, top),\n",
        "        (left + width, top + height),\n",
        "        (left, top + height),\n",
        "        (left, top)\n",
        "\n",
        "    )\n",
        "\n",
        "    fnt = ImageFont.truetype(font_path, 24)\n",
        "    draw.line(points, fill='#00d400', width=4)\n",
        "    text = text_above_box\n",
        "    draw.text((left,top - 35),text , fill='#00d400', font=fnt)\n",
        "\n",
        "    im1 = image.save(saving_path)"
      ],
      "execution_count": 1,
      "outputs": []
    },
    {
      "cell_type": "code",
      "metadata": {
        "id": "Nhylrssbfdfd"
      },
      "source": [
        "# image path\n",
        "image_path = r'/content/yolov5/runs/detect/exp/8.jpeg'\n",
        "\n",
        "# Yolo V5 bounding box, it's in the output text of labelImg\n",
        "center_x, center_y,width,height = 0.545039, 0.257324, 0.218016, 0.176758\n",
        "\n",
        "# font fot writing, you can download it here and write its path, you can download it from here:\n",
        "# https://www.freefontspro.com/14454/arial.ttf\n",
        "font_path = '/content/arial.ttf'\n",
        "\n",
        "# text you want to write above the rectangle\n",
        "text_above_box = 'CALM  0.79   No Nudity'\n",
        "\n",
        "# saving path\n",
        "saving_path = \"8.jpg\"\n",
        "\n",
        "\n",
        "draw__yolo_box_coordinates_on_image(image_path, font_path, center_x, center_y, width, height, text_above_box, saving_path  )\n"
      ],
      "execution_count": null,
      "outputs": []
    }
  ]
}